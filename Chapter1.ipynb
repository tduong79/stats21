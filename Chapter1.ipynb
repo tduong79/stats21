{
 "cells": [
  {
   "cell_type": "markdown",
   "id": "36faa8ce-0abb-468a-a24c-685ce2082abd",
   "metadata": {},
   "source": [
    "## Jupyter has two modes\n",
    "### command mode `esc` or `ctrl+enter`\n",
    "- type b to add new cell below\n",
    "- type a to add new cell above\n",
    "- type dd to delete a cell\n",
    "- x to cut\n",
    "- c to copy\n",
    "- v to paste \n",
    "### edit mode `enter`"
   ]
  },
  {
   "cell_type": "markdown",
   "id": "38a8edc5-5715-4269-a7e0-64cf1747081a",
   "metadata": {},
   "source": [
    "#### markdown `esc+m`\n",
    "More *#* = smaller heading\n",
    "~~~\n",
    "~~~\n",
    "-\n",
    "-\n",
    "-\n",
    "\n",
    "math in latex \n",
    "\n",
    "https://www.overleaf.com/learn/latex/Learn_LaTeX_in_30_minutes\n",
    "\n",
    "#### code `esc+y`\n"
   ]
  },
  {
   "cell_type": "code",
   "execution_count": 3,
   "id": "e3934f03-c772-475e-824b-dc2b7859c76a",
   "metadata": {},
   "outputs": [
    {
     "data": {
      "text/plain": [
       "0"
      ]
     },
     "execution_count": 3,
     "metadata": {},
     "output_type": "execute_result"
    }
   ],
   "source": [
    "# each cell only produce the last output\n",
    "5+3\n",
    "2-2"
   ]
  },
  {
   "cell_type": "code",
   "execution_count": 4,
   "id": "418c0f7a-2f8d-4857-a99c-4a84d1d76526",
   "metadata": {},
   "outputs": [
    {
     "name": "stdout",
     "output_type": "stream",
     "text": [
      "43\n",
      "8.0\n"
     ]
    }
   ],
   "source": [
    "print(43)\n",
    "print(32/4)"
   ]
  },
  {
   "cell_type": "code",
   "execution_count": 5,
   "id": "862717bf-57da-49fa-a45d-4ec2846f9906",
   "metadata": {},
   "outputs": [
    {
     "data": {
      "text/plain": [
       "'# each cell only produce the last output\\n5+3\\n2-2'"
      ]
     },
     "execution_count": 5,
     "metadata": {},
     "output_type": "execute_result"
    }
   ],
   "source": [
    "In[3]"
   ]
  },
  {
   "cell_type": "code",
   "execution_count": 6,
   "id": "61378a96-e39a-43a5-9b74-373f2006a96a",
   "metadata": {},
   "outputs": [
    {
     "data": {
      "text/plain": [
       "'hellohellohello'"
      ]
     },
     "execution_count": 6,
     "metadata": {},
     "output_type": "execute_result"
    }
   ],
   "source": [
    "3*\"hello\""
   ]
  },
  {
   "cell_type": "code",
   "execution_count": 7,
   "id": "3f79e94f-4e09-4b85-a504-cdd3050f7a6c",
   "metadata": {},
   "outputs": [
    {
     "data": {
      "text/plain": [
       "'hello'"
      ]
     },
     "execution_count": 7,
     "metadata": {},
     "output_type": "execute_result"
    }
   ],
   "source": [
    "\"he\"+\"llo\""
   ]
  },
  {
   "cell_type": "code",
   "execution_count": 12,
   "id": "fdfbc905-d135-4c8c-a382-d5ad0584f171",
   "metadata": {},
   "outputs": [
    {
     "name": "stdout",
     "output_type": "stream",
     "text": [
      "Hello Tuyen\n"
     ]
    }
   ],
   "source": [
    "name = \"Tuyen\"\n",
    "%run -i script1.py # run script from the same folder (-i passes name to the script)"
   ]
  },
  {
   "cell_type": "code",
   "execution_count": 13,
   "id": "7e63977f-43c8-482e-8f59-c18b4f52c291",
   "metadata": {},
   "outputs": [
    {
     "name": "stdout",
     "output_type": "stream",
     "text": [
      "print(\"Hello \" + name)\n"
     ]
    }
   ],
   "source": [
    "!type script1.py # show content of the script"
   ]
  },
  {
   "cell_type": "code",
   "execution_count": 15,
   "id": "21087f67-d6b8-4830-9dc0-daf702e20fae",
   "metadata": {},
   "outputs": [
    {
     "name": "stdout",
     "output_type": "stream",
     "text": [
      "Help on built-in function print in module builtins:\n",
      "\n",
      "print(...)\n",
      "    print(value, ..., sep=' ', end='\\n', file=sys.stdout, flush=False)\n",
      "    \n",
      "    Prints the values to a stream, or to sys.stdout by default.\n",
      "    Optional keyword arguments:\n",
      "    file:  a file-like object (stream); defaults to the current sys.stdout.\n",
      "    sep:   string inserted between values, default a space.\n",
      "    end:   string appended after the last value, default a newline.\n",
      "    flush: whether to forcibly flush the stream.\n",
      "\n"
     ]
    }
   ],
   "source": [
    "help(print)"
   ]
  },
  {
   "cell_type": "code",
   "execution_count": 16,
   "id": "4cd84c18-70ef-4c78-91d5-89737431f7d1",
   "metadata": {},
   "outputs": [],
   "source": [
    "# comment multiple lines with  \"control+/\"\n",
    "# fdsfds\n",
    "# fdsfs\n",
    "# bdbvsv"
   ]
  },
  {
   "cell_type": "code",
   "execution_count": 19,
   "id": "0e9bb13d-9304-4704-912a-4f6eb94c460e",
   "metadata": {},
   "outputs": [
    {
     "data": {
      "text/plain": [
       "15"
      ]
     },
     "execution_count": 19,
     "metadata": {},
     "output_type": "execute_result"
    }
   ],
   "source": [
    "a = 2 + 3 + 4\\\n",
    "    + 3 + 3\n",
    "a"
   ]
  },
  {
   "cell_type": "code",
   "execution_count": 20,
   "id": "563bb7ae-48ee-413a-a8aa-6d013eb00a9e",
   "metadata": {},
   "outputs": [
    {
     "data": {
      "text/plain": [
       "20"
      ]
     },
     "execution_count": 20,
     "metadata": {},
     "output_type": "execute_result"
    }
   ],
   "source": [
    "a = (5+5+2+\n",
    "     4+4)\n",
    "a"
   ]
  },
  {
   "cell_type": "code",
   "execution_count": 22,
   "id": "09eca353-6da5-462c-8a03-f67b4d6cd890",
   "metadata": {},
   "outputs": [],
   "source": [
    "# Indentation is required for a code block"
   ]
  },
  {
   "cell_type": "code",
   "execution_count": 28,
   "id": "aea128f7-f13f-471e-800a-eb237ba5060d",
   "metadata": {},
   "outputs": [
    {
     "name": "stdout",
     "output_type": "stream",
     "text": [
      "x is greater than 5\n",
      "8\n"
     ]
    }
   ],
   "source": [
    "x = 8\n",
    "if (x>5):\n",
    "    print(\"x is greater than 5\")\n",
    "    print(x)\n",
    "    "
   ]
  },
  {
   "cell_type": "code",
   "execution_count": null,
   "id": "76b4a990-855e-4f93-983c-e51d147f6651",
   "metadata": {},
   "outputs": [],
   "source": []
  },
  {
   "cell_type": "code",
   "execution_count": null,
   "id": "1b4f45c7-e47f-405b-9c4b-5276777e62ea",
   "metadata": {},
   "outputs": [],
   "source": []
  }
 ],
 "metadata": {
  "kernelspec": {
   "display_name": "Python 3 (ipykernel)",
   "language": "python",
   "name": "python3"
  },
  "language_info": {
   "codemirror_mode": {
    "name": "ipython",
    "version": 3
   },
   "file_extension": ".py",
   "mimetype": "text/x-python",
   "name": "python",
   "nbconvert_exporter": "python",
   "pygments_lexer": "ipython3",
   "version": "3.9.13"
  },
  "toc-autonumbering": false
 },
 "nbformat": 4,
 "nbformat_minor": 5
}
